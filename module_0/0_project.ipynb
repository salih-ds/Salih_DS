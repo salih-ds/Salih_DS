{
 "cells": [
  {
   "cell_type": "markdown",
   "metadata": {},
   "source": [
    "## Угадывает число и делает это за как можно меньшее число попыток"
   ]
  },
  {
   "cell_type": "code",
   "execution_count": 17,
   "metadata": {},
   "outputs": [],
   "source": [
    "def score_game(game_core):\n",
    "    '''Запускаем игру 1000 раз, чтобы узнать, как быстро игра угадывает число'''\n",
    "    count_ls = []\n",
    "    np.random.seed(1)  # фиксируем RANDOM SEED, чтобы ваш эксперимент был воспроизводим!\n",
    "    random_array = np.random.randint(1,101, size=(1000))\n",
    "    for number in random_array:\n",
    "        count_ls.append(game_core(number))\n",
    "    score = int(np.mean(count_ls))\n",
    "    print(f\"Ваш алгоритм угадывает число в среднем за {score} попыток.\")\n",
    "    return(score)"
   ]
  },
  {
   "cell_type": "code",
   "execution_count": 18,
   "metadata": {},
   "outputs": [],
   "source": [
    "def game_core_v3(number):\n",
    "    # Способ вычисления: Делить разницу границ на 2 и вычитать от максимального числа\n",
    "    \n",
    "    # Проверка number == 1, number == 50\n",
    "    count = 2\n",
    "    \n",
    "    # Проверка 1\n",
    "    if number == 1:\n",
    "        return(count)\n",
    "    \n",
    "    # Границы, которые будут меняться в зависимости от проверок\n",
    "    max_num = 100\n",
    "    min_num = 1\n",
    "    \n",
    "    # Принимает значение между границами\n",
    "    predict = (max_num + min_num) // 2\n",
    "    \n",
    "    while number != predict:\n",
    "        count+=1\n",
    "        \n",
    "        if number < predict:\n",
    "            # Устанавливаю новую максимальную границу\n",
    "            max_num = predict\n",
    "            predict = max_num - ((max_num-min_num)//2)\n",
    "        \n",
    "        elif number > predict:\n",
    "            # Устанавливаю новую минимальную границу\n",
    "            min_num = predict\n",
    "            predict = max_num - ((max_num-min_num)//2)\n",
    "        \n",
    "    return(count) # выход из цикла, если угадали"
   ]
  },
  {
   "cell_type": "code",
   "execution_count": 19,
   "metadata": {},
   "outputs": [
    {
     "name": "stdout",
     "output_type": "stream",
     "text": [
      "Ваш алгоритм угадывает число в среднем за 6 попыток.\n"
     ]
    },
    {
     "data": {
      "text/plain": [
       "6"
      ]
     },
     "execution_count": 19,
     "metadata": {},
     "output_type": "execute_result"
    }
   ],
   "source": [
    "# Проверяем\n",
    "score_game(game_core_v3)"
   ]
  },
  {
   "cell_type": "code",
   "execution_count": null,
   "metadata": {},
   "outputs": [],
   "source": []
  }
 ],
 "metadata": {
  "kernelspec": {
   "display_name": "Python 3",
   "language": "python",
   "name": "python3"
  },
  "language_info": {
   "codemirror_mode": {
    "name": "ipython",
    "version": 3
   },
   "file_extension": ".py",
   "mimetype": "text/x-python",
   "name": "python",
   "nbconvert_exporter": "python",
   "pygments_lexer": "ipython3",
   "version": "3.7.6"
  }
 },
 "nbformat": 4,
 "nbformat_minor": 4
}
