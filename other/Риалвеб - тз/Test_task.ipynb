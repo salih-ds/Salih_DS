{
 "cells": [
  {
   "cell_type": "markdown",
   "metadata": {},
   "source": [
    "## Задание 2"
   ]
  },
  {
   "cell_type": "markdown",
   "metadata": {},
   "source": [
    "<i>Написать скрипт/программу для вычисления вероятности для случая n кубиков и суммы равной s. n и s подаются на вход. Объяснить логику работы скрипта.</i>"
   ]
  },
  {
   "cell_type": "code",
   "execution_count": 1,
   "metadata": {},
   "outputs": [
    {
     "name": "stdout",
     "output_type": "stream",
     "text": [
      "6\n",
      "5\n",
      "Сумма для 6 кубиков не может быть меньше 6 и больше 36\n"
     ]
    }
   ],
   "source": [
    "import numpy as np\n",
    "import itertools\n",
    "from itertools import combinations\n",
    "\n",
    "n = round(int(input()))  # количество кубиков\n",
    "if n < 1:\n",
    "    print('Введите положительное число')\n",
    "else:\n",
    "    # генерируем список из возможных 6-ти исходов кубика\n",
    "    cube = [i for i in range(1, 7)]\n",
    "    options = len(cube)**n  # количество возможных исходов\n",
    "    max_sum = len(cube) * n  # максимальная сумма\n",
    "    min_sum = n  # минимальная сумма\n",
    "\n",
    "    s = int(input())  # искомая сумма\n",
    "\n",
    "    if s < min_sum or s > max_sum:\n",
    "        print(\n",
    "            f'Сумма для {n} кубиков не может быть меньше {min_sum} и больше {max_sum}')\n",
    "    else:\n",
    "        list_dice = []\n",
    "        # формируем список из значений всех кубиков\n",
    "        for i in range(n):\n",
    "            list_dice.append(cube)\n",
    "\n",
    "        # список всех комбинаций\n",
    "        comb_tup = list(itertools.product(*list_dice))\n",
    "\n",
    "        counter = 0  # счетчик\n",
    "\n",
    "        # перебираю сумму всех возможных комбинаций\n",
    "        for i in range(len(comb_tup)):\n",
    "            # если сумма комбинации = искомому значению, увеличиваю значение счетчика на 1\n",
    "            if np.asarray(comb_tup[i]).sum() == s:\n",
    "                counter += 1\n",
    "        print(\n",
    "            f'Вероятность, что при {n} кубиках сумма равна {s}: {counter/options}')"
   ]
  },
  {
   "cell_type": "markdown",
   "metadata": {},
   "source": [
    "## Задание 4"
   ]
  },
  {
   "cell_type": "markdown",
   "metadata": {},
   "source": [
    "<i>Построить две диаграммы распределения (гистограмма или на твой выбор) созданий резюме (Goals) для студентов, начинающих карьеру – отдельно для male и female. Какие выводы можно сделать из полученных данных?</i>"
   ]
  },
  {
   "cell_type": "markdown",
   "metadata": {},
   "source": [
    "### Чтение данных"
   ]
  },
  {
   "cell_type": "code",
   "execution_count": 2,
   "metadata": {},
   "outputs": [],
   "source": [
    "import pandas as pd"
   ]
  },
  {
   "cell_type": "code",
   "execution_count": 3,
   "metadata": {},
   "outputs": [],
   "source": [
    "df = pd.read_csv('test_data.csv')"
   ]
  },
  {
   "cell_type": "markdown",
   "metadata": {},
   "source": [
    "**Получим данные по категории \"Начало карьеры/студенты\"**"
   ]
  },
  {
   "cell_type": "code",
   "execution_count": 4,
   "metadata": {},
   "outputs": [],
   "source": [
    "df = df[df['Category'] == 'Nachalo-karery-Studenty']"
   ]
  },
  {
   "cell_type": "code",
   "execution_count": 5,
   "metadata": {},
   "outputs": [
    {
     "name": "stdout",
     "output_type": "stream",
     "text": [
      "<class 'pandas.core.frame.DataFrame'>\n",
      "Int64Index: 1092 entries, 132 to 26715\n",
      "Data columns (total 7 columns):\n",
      " #   Column    Non-Null Count  Dtype \n",
      "---  ------    --------------  ----- \n",
      " 0   Date      1092 non-null   object\n",
      " 1   Category  1092 non-null   object\n",
      " 2   Age       1092 non-null   object\n",
      " 3   Gender    1092 non-null   object\n",
      " 4   Sessions  1092 non-null   int64 \n",
      " 5   Users     1092 non-null   int64 \n",
      " 6   Goals     1092 non-null   int64 \n",
      "dtypes: int64(3), object(4)\n",
      "memory usage: 68.2+ KB\n"
     ]
    }
   ],
   "source": [
    "df.info()"
   ]
  },
  {
   "cell_type": "markdown",
   "metadata": {},
   "source": [
    "### Первичный анализ"
   ]
  },
  {
   "cell_type": "markdown",
   "metadata": {},
   "source": [
    "1. Рассмотрим распределение данных по полу и возрасту"
   ]
  },
  {
   "cell_type": "code",
   "execution_count": 6,
   "metadata": {
    "scrolled": true
   },
   "outputs": [
    {
     "data": {
      "text/plain": [
       "<AxesSubplot:title={'center':'Мужчины'}>"
      ]
     },
     "execution_count": 6,
     "metadata": {},
     "output_type": "execute_result"
    },
    {
     "data": {
      "image/png": "[encoded data removed]",
      "text/plain": [
       "<Figure size 432x288 with 1 Axes>"
      ]
     },
     "metadata": {
      "needs_background": "light"
     },
     "output_type": "display_data"
    }
   ],
   "source": [
    "df[df['Gender'] == 'male']['Age'].value_counts().plot(kind = 'bar', grid= True, title='Мужчины')"
   ]
  },
  {
   "cell_type": "code",
   "execution_count": 7,
   "metadata": {
    "scrolled": true
   },
   "outputs": [
    {
     "data": {
      "text/plain": [
       "<AxesSubplot:title={'center':'Женщины'}>"
      ]
     },
     "execution_count": 7,
     "metadata": {},
     "output_type": "execute_result"
    },
    {
     "data": {
      "image/png": "[encoded data removed]",
      "text/plain": [
       "<Figure size 432x288 with 1 Axes>"
      ]
     },
     "metadata": {
      "needs_background": "light"
     },
     "output_type": "display_data"
    }
   ],
   "source": [
    "df[df['Gender'] == 'female']['Age'].value_counts().plot(kind = 'bar', grid= True, title='Женщины')"
   ]
  },
  {
   "cell_type": "markdown",
   "metadata": {},
   "source": [
    "**Равное распределение, люди готовы менять род деятельности в любом возрате**"
   ]
  },
  {
   "cell_type": "markdown",
   "metadata": {},
   "source": [
    "3. Рассмотрим распределение Goals в среднем по полу"
   ]
  },
  {
   "cell_type": "code",
   "execution_count": 8,
   "metadata": {},
   "outputs": [
    {
     "data": {
      "text/plain": [
       "<AxesSubplot:title={'center':'Распределение Goals в среднем по полу'}, xlabel='Gender'>"
      ]
     },
     "execution_count": 8,
     "metadata": {},
     "output_type": "execute_result"
    },
    {
     "data": {
      "image/png": "[encoded data removed]",
      "text/plain": [
       "<Figure size 432x288 with 1 Axes>"
      ]
     },
     "metadata": {
      "needs_background": "light"
     },
     "output_type": "display_data"
    }
   ],
   "source": [
    "df.groupby(by = ['Gender'])['Goals'].mean().plot(kind = 'bar', grid= True, title='Распределение Goals в среднем по полу')"
   ]
  },
  {
   "cell_type": "markdown",
   "metadata": {},
   "source": [
    "**Женщины в среднем создают резюме немного чаще**"
   ]
  },
  {
   "cell_type": "markdown",
   "metadata": {},
   "source": [
    "4. Рассмотри распределение Goals, построим boxplot"
   ]
  },
  {
   "cell_type": "code",
   "execution_count": 9,
   "metadata": {},
   "outputs": [
    {
     "data": {
      "text/plain": [
       "<AxesSubplot:xlabel='Gender', ylabel='Goals'>"
      ]
     },
     "execution_count": 9,
     "metadata": {},
     "output_type": "execute_result"
    },
    {
     "data": {
      "image/png": "[encoded data removed]",
      "text/plain": [
       "<Figure size 432x288 with 1 Axes>"
      ]
     },
     "metadata": {
      "needs_background": "light"
     },
     "output_type": "display_data"
    }
   ],
   "source": [
    "import seaborn as sns\n",
    "sns.boxplot(x = 'Gender', y = 'Goals', data = df)"
   ]
  },
  {
   "cell_type": "code",
   "execution_count": 10,
   "metadata": {},
   "outputs": [
    {
     "data": {
      "text/plain": [
       "32.0"
      ]
     },
     "execution_count": 10,
     "metadata": {},
     "output_type": "execute_result"
    }
   ],
   "source": [
    "df['Goals'].median()"
   ]
  },
  {
   "cell_type": "markdown",
   "metadata": {},
   "source": [
    "**Данные ассиметричны**"
   ]
  },
  {
   "cell_type": "markdown",
   "metadata": {},
   "source": [
    "5. Рассмотрим, сколько в среднем созадются резюме по группировке пол/возраст"
   ]
  },
  {
   "cell_type": "code",
   "execution_count": 11,
   "metadata": {},
   "outputs": [
    {
     "data": {
      "text/plain": [
       "<AxesSubplot:title={'center':'Резюме в среднем по группировке пол/возраст'}, xlabel='Age'>"
      ]
     },
     "execution_count": 11,
     "metadata": {},
     "output_type": "execute_result"
    },
    {
     "data": {
      "image/png": "[encoded data removed]",
      "text/plain": [
       "<Figure size 432x288 with 1 Axes>"
      ]
     },
     "metadata": {
      "needs_background": "light"
     },
     "output_type": "display_data"
    }
   ],
   "source": [
    "df.groupby(['Age','Gender'])['Goals'].aggregate('mean').unstack().plot(kind = 'bar', title='Резюме в среднем по группировке пол/возраст')"
   ]
  },
  {
   "cell_type": "markdown",
   "metadata": {},
   "source": [
    "**Чаще всего ищут работу в новой сфере в возрасте от 18 до 34**\n",
    "<br>\n",
    "**Люди старше 34 все меньше готовы менять род своей деятельности**\n",
    "<br>\n",
    "**Мужчины чуть менее заинтересованы в смене рода деятельности**"
   ]
  },
  {
   "cell_type": "code",
   "execution_count": null,
   "metadata": {},
   "outputs": [],
   "source": []
  }
 ],
 "metadata": {
  "kernelspec": {
   "display_name": "Python 3",
   "language": "python",
   "name": "python3"
  },
  "language_info": {
   "codemirror_mode": {
    "name": "ipython",
    "version": 3
   },
   "file_extension": ".py",
   "mimetype": "text/x-python",
   "name": "python",
   "nbconvert_exporter": "python",
   "pygments_lexer": "ipython3",
   "version": "3.7.6"
  }
 },
 "nbformat": 4,
 "nbformat_minor": 4
}
